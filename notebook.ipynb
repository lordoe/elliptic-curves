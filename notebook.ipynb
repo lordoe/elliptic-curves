{
 "cells": [
  {
   "cell_type": "markdown",
   "metadata": {},
   "source": [
    "# Elliptische Kurven über $\\mathbb{Z}_p$ mit $p$ prim"
   ]
  },
  {
   "cell_type": "code",
   "execution_count": 1,
   "metadata": {},
   "outputs": [],
   "source": [
    "from ellipticcurves import EllipticCurve, Point"
   ]
  },
  {
   "cell_type": "code",
   "execution_count": 2,
   "metadata": {},
   "outputs": [
    {
     "name": "stdout",
     "output_type": "stream",
     "text": [
      "13\n",
      "[(None, None), (2, 4), (2, 7), (3, 5), (3, 6), (5, 2), (5, 9), (7, 2), (7, 9), (8, 3), (8, 8), (10, 2), (10, 9)]\n"
     ]
    }
   ],
   "source": [
    "# Macs 3 Ue 11\n",
    "# A1\n",
    "\n",
    "ellCurve = EllipticCurve(a=1, b=6, p=11)\n",
    "points = ellCurve.get_points()\n",
    "print(len(points))\n",
    "print(points)"
   ]
  },
  {
   "cell_type": "code",
   "execution_count": 3,
   "metadata": {},
   "outputs": [
    {
     "data": {
      "image/png": "[encoded data removed]",
      "text/plain": [
       "<Figure size 600x600 with 1 Axes>"
      ]
     },
     "metadata": {},
     "output_type": "display_data"
    }
   ],
   "source": [
    "ellCurve.plot()"
   ]
  },
  {
   "cell_type": "code",
   "execution_count": 4,
   "metadata": {},
   "outputs": [
    {
     "name": "stdout",
     "output_type": "stream",
     "text": [
      "a * 1 = (2, 4)\n",
      "a * 2 = (5, 9)\n",
      "a * 3 = (8, 8)\n",
      "a * 4 = (10, 9)\n",
      "a * 5 = (3, 5)\n",
      "a * 6 = (7, 2)\n",
      "a * 7 = (7, 9)\n",
      "a * 8 = (3, 6)\n",
      "a * 9 = (10, 2)\n",
      "a * 10 = (8, 3)\n",
      "a * 11 = (5, 2)\n",
      "a * 12 = (2, 7)\n",
      "a * 13 = (None, None)\n"
     ]
    }
   ],
   "source": [
    "# da |E| = 13 und damit prim, können wir mit einem punkt alle elemente erzeugen\n",
    "a = ellCurve.point(2,4)\n",
    "# zeige, dass gruppe zyklisch:\n",
    "for i in range(1, 14):\n",
    "    print(f\"a * {i} = {a*i}\")"
   ]
  },
  {
   "cell_type": "markdown",
   "metadata": {},
   "source": [
    "# 1. Diffie Hellman in Elliptischen Kurven"
   ]
  },
  {
   "cell_type": "code",
   "execution_count": 5,
   "metadata": {},
   "outputs": [
    {
     "name": "stdout",
     "output_type": "stream",
     "text": [
      "[(None, None), (2, 4), (2, 7), (3, 5), (3, 6), (5, 2), (5, 9), (7, 2), (7, 9), (8, 3), (8, 8), (10, 2), (10, 9)]\n"
     ]
    }
   ],
   "source": [
    "ellCurve = EllipticCurve(a=1, b=6, p=11)\n",
    "points = ellCurve.get_points()\n",
    "print(points)"
   ]
  },
  {
   "cell_type": "code",
   "execution_count": 6,
   "metadata": {},
   "outputs": [],
   "source": [
    "# öffentlich bekannter Punkt G in Kurve\n",
    "G = ellCurve.point(2,4)"
   ]
  },
  {
   "cell_type": "markdown",
   "metadata": {},
   "source": [
    "### 1.1 Private Keys und public keys"
   ]
  },
  {
   "cell_type": "code",
   "execution_count": 7,
   "metadata": {},
   "outputs": [
    {
     "name": "stdout",
     "output_type": "stream",
     "text": [
      "Alice public key: (3, 5)\n"
     ]
    }
   ],
   "source": [
    "# Alice wählt zufällig a mod |E| = 13 und berechnet A = aG\n",
    "\n",
    "a = 5           # Alice private key\n",
    "A = G * a       # Alice public key\n",
    "print(f\"Alice public key: {A}\")"
   ]
  },
  {
   "cell_type": "code",
   "execution_count": 8,
   "metadata": {},
   "outputs": [
    {
     "name": "stdout",
     "output_type": "stream",
     "text": [
      "Bob public key: (7, 9)\n"
     ]
    }
   ],
   "source": [
    "# Bob wählt zufällig b mod |E| = 13 und berechnet B = bG\n",
    "\n",
    "b = 7           # Bob private key\n",
    "B = G * b       # Bob public key\n",
    "print(f\"Bob public key: {B}\")"
   ]
  },
  {
   "cell_type": "markdown",
   "metadata": {},
   "source": [
    "### 1.2 exchange public keys\n",
    "\n",
    "Alice sends Bob $A = aG$ and Bob sends Alice $B = bG$"
   ]
  },
  {
   "cell_type": "code",
   "execution_count": 9,
   "metadata": {},
   "outputs": [
    {
     "name": "stdout",
     "output_type": "stream",
     "text": [
      "Alice shared key: (10, 2)\n"
     ]
    }
   ],
   "source": [
    "# Alice berechnet gemeinsamen Schlüssel K = aB\n",
    "Alice_K = B * a\n",
    "print(f\"Alice shared key: {Alice_K}\")"
   ]
  },
  {
   "cell_type": "code",
   "execution_count": 10,
   "metadata": {},
   "outputs": [
    {
     "name": "stdout",
     "output_type": "stream",
     "text": [
      "Bob shared key: (10, 2)\n"
     ]
    }
   ],
   "source": [
    "# Bob berechnet gemeinsamen Schlüssel K = bA\n",
    "Bob_K = A * b\n",
    "print(f\"Bob shared key: {Bob_K}\")"
   ]
  },
  {
   "cell_type": "markdown",
   "metadata": {},
   "source": [
    "### 1.3 shared secret\n",
    "\n",
    "wie man sieht, haben beide dasselbe shared secret $aB = abG = bA$"
   ]
  }
 ],
 "metadata": {
  "kernelspec": {
   "display_name": "venv",
   "language": "python",
   "name": "python3"
  },
  "language_info": {
   "codemirror_mode": {
    "name": "ipython",
    "version": 3
   },
   "file_extension": ".py",
   "mimetype": "text/x-python",
   "name": "python",
   "nbconvert_exporter": "python",
   "pygments_lexer": "ipython3",
   "version": "3.10.12"
  }
 },
 "nbformat": 4,
 "nbformat_minor": 2
}
